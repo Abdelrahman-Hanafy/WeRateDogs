{
 "metadata": {
  "language_info": {
   "codemirror_mode": {
    "name": "ipython",
    "version": 3
   },
   "file_extension": ".py",
   "mimetype": "text/x-python",
   "name": "python",
   "nbconvert_exporter": "python",
   "pygments_lexer": "ipython3",
   "version": "3.7.6-final"
  },
  "orig_nbformat": 2,
  "kernelspec": {
   "name": "python3",
   "display_name": "Python 3",
   "language": "python"
  }
 },
 "nbformat": 4,
 "nbformat_minor": 2,
 "cells": [
  {
   "cell_type": "code",
   "execution_count": 3,
   "metadata": {},
   "outputs": [],
   "source": [
    "import pandas as pd\n",
    "import json\n",
    "import requests\n",
    "import numpy as np"
   ]
  },
  {
   "source": [
    "# Gatharing"
   ],
   "cell_type": "markdown",
   "metadata": {}
  },
  {
   "source": [
    "\n",
    "url = \"https://d17h27t6h515a5.cloudfront.net/topher/2017/August/599fd2ad_image-predictions/image-predictions.tsv\"\n",
    "page = requests.get(url)\n",
    "with open(\"image_predictions.tsv\",\"w\") as f:\n",
    "    f.write(page.text)"
   ],
   "cell_type": "code",
   "metadata": {},
   "execution_count": null,
   "outputs": []
  },
  {
   "cell_type": "code",
   "execution_count": null,
   "metadata": {
    "tags": []
   },
   "outputs": [],
   "source": [
    "dict_json = {'tweet_id':[],'retweet_count':[],'favorite_count':[]}\n",
    "with open(\"tweet_json.txt\",\"r\") as f:\n",
    "    lines  = f.readlines()\n",
    "    for line in lines:\n",
    "        line_json = json.loads(line)\n",
    "        #print(line_json.keys())\n",
    "        dict_json['retweet_count'].append(line_json['retweet_count'])\n",
    "        dict_json['favorite_count'].append(line_json['favorite_count'])\n",
    "        dict_json['tweet_id'].append(line_json['id'])        \n",
    "        #break\n",
    "df_json = pd.DataFrame(dict_json)\n",
    "df_json.to_csv(\"tweet_json.csv\",index=False)"
   ]
  },
  {
   "source": [
    "# Asses"
   ],
   "cell_type": "markdown",
   "metadata": {}
  },
  {
   "cell_type": "code",
   "execution_count": 4,
   "metadata": {},
   "outputs": [
    {
     "output_type": "execute_result",
     "data": {
      "text/plain": [
       "             tweet_id  in_reply_to_status_id  in_reply_to_user_id  \\\n",
       "0  892420643555336193                    NaN                  NaN   \n",
       "\n",
       "                   timestamp  \\\n",
       "0  2017-08-01 16:23:56 +0000   \n",
       "\n",
       "                                              source  \\\n",
       "0  <a href=\"http://twitter.com/download/iphone\" r...   \n",
       "\n",
       "                                                text  retweeted_status_id  \\\n",
       "0  This is Phineas. He's a mystical boy. Only eve...                  NaN   \n",
       "\n",
       "   retweeted_status_user_id retweeted_status_timestamp  \\\n",
       "0                       NaN                        NaN   \n",
       "\n",
       "                                       expanded_urls  rating_numerator  \\\n",
       "0  https://twitter.com/dog_rates/status/892420643...                13   \n",
       "\n",
       "   rating_denominator     name doggo floofer pupper puppo  \n",
       "0                  10  Phineas  None    None   None  None  "
      ],
      "text/html": "<div>\n<style scoped>\n    .dataframe tbody tr th:only-of-type {\n        vertical-align: middle;\n    }\n\n    .dataframe tbody tr th {\n        vertical-align: top;\n    }\n\n    .dataframe thead th {\n        text-align: right;\n    }\n</style>\n<table border=\"1\" class=\"dataframe\">\n  <thead>\n    <tr style=\"text-align: right;\">\n      <th></th>\n      <th>tweet_id</th>\n      <th>in_reply_to_status_id</th>\n      <th>in_reply_to_user_id</th>\n      <th>timestamp</th>\n      <th>source</th>\n      <th>text</th>\n      <th>retweeted_status_id</th>\n      <th>retweeted_status_user_id</th>\n      <th>retweeted_status_timestamp</th>\n      <th>expanded_urls</th>\n      <th>rating_numerator</th>\n      <th>rating_denominator</th>\n      <th>name</th>\n      <th>doggo</th>\n      <th>floofer</th>\n      <th>pupper</th>\n      <th>puppo</th>\n    </tr>\n  </thead>\n  <tbody>\n    <tr>\n      <th>0</th>\n      <td>892420643555336193</td>\n      <td>NaN</td>\n      <td>NaN</td>\n      <td>2017-08-01 16:23:56 +0000</td>\n      <td>&lt;a href=\"http://twitter.com/download/iphone\" r...</td>\n      <td>This is Phineas. He's a mystical boy. Only eve...</td>\n      <td>NaN</td>\n      <td>NaN</td>\n      <td>NaN</td>\n      <td>https://twitter.com/dog_rates/status/892420643...</td>\n      <td>13</td>\n      <td>10</td>\n      <td>Phineas</td>\n      <td>None</td>\n      <td>None</td>\n      <td>None</td>\n      <td>None</td>\n    </tr>\n  </tbody>\n</table>\n</div>"
     },
     "metadata": {},
     "execution_count": 4
    }
   ],
   "source": [
    "df_Archive = pd.read_csv(\"twitter_archive_enhanced.csv\")\n",
    "df_Archive.head(1)"
   ]
  },
  {
   "cell_type": "code",
   "execution_count": 11,
   "metadata": {},
   "outputs": [
    {
     "output_type": "stream",
     "name": "stdout",
     "text": [
      "<class 'pandas.core.frame.DataFrame'>\nRangeIndex: 2356 entries, 0 to 2355\nData columns (total 17 columns):\n #   Column                      Non-Null Count  Dtype  \n---  ------                      --------------  -----  \n 0   tweet_id                    2356 non-null   int64  \n 1   in_reply_to_status_id       78 non-null     float64\n 2   in_reply_to_user_id         78 non-null     float64\n 3   timestamp                   2356 non-null   object \n 4   source                      2356 non-null   object \n 5   text                        2356 non-null   object \n 6   retweeted_status_id         181 non-null    float64\n 7   retweeted_status_user_id    181 non-null    float64\n 8   retweeted_status_timestamp  181 non-null    object \n 9   expanded_urls               2297 non-null   object \n 10  rating_numerator            2356 non-null   int64  \n 11  rating_denominator          2356 non-null   int64  \n 12  name                        2356 non-null   object \n 13  doggo                       2356 non-null   object \n 14  floofer                     2356 non-null   object \n 15  pupper                      2356 non-null   object \n 16  puppo                       2356 non-null   object \ndtypes: float64(4), int64(3), object(10)\nmemory usage: 313.0+ KB\n"
     ]
    }
   ],
   "source": [
    "df_Archive.info()"
   ]
  },
  {
   "cell_type": "code",
   "execution_count": 5,
   "metadata": {},
   "outputs": [
    {
     "output_type": "execute_result",
     "data": {
      "text/plain": [
       "             tweet_id                                          jpg_url  \\\n",
       "0  666020888022790149  https://pbs.twimg.com/media/CT4udn0WwAA0aMy.jpg   \n",
       "\n",
       "   img_num                      p1   p1_conf  p1_dog      p2   p2_conf  \\\n",
       "0        1  Welsh_springer_spaniel  0.465074    True  collie  0.156665   \n",
       "\n",
       "   p2_dog                 p3   p3_conf  p3_dog  \n",
       "0    True  Shetland_sheepdog  0.061428    True  "
      ],
      "text/html": "<div>\n<style scoped>\n    .dataframe tbody tr th:only-of-type {\n        vertical-align: middle;\n    }\n\n    .dataframe tbody tr th {\n        vertical-align: top;\n    }\n\n    .dataframe thead th {\n        text-align: right;\n    }\n</style>\n<table border=\"1\" class=\"dataframe\">\n  <thead>\n    <tr style=\"text-align: right;\">\n      <th></th>\n      <th>tweet_id</th>\n      <th>jpg_url</th>\n      <th>img_num</th>\n      <th>p1</th>\n      <th>p1_conf</th>\n      <th>p1_dog</th>\n      <th>p2</th>\n      <th>p2_conf</th>\n      <th>p2_dog</th>\n      <th>p3</th>\n      <th>p3_conf</th>\n      <th>p3_dog</th>\n    </tr>\n  </thead>\n  <tbody>\n    <tr>\n      <th>0</th>\n      <td>666020888022790149</td>\n      <td>https://pbs.twimg.com/media/CT4udn0WwAA0aMy.jpg</td>\n      <td>1</td>\n      <td>Welsh_springer_spaniel</td>\n      <td>0.465074</td>\n      <td>True</td>\n      <td>collie</td>\n      <td>0.156665</td>\n      <td>True</td>\n      <td>Shetland_sheepdog</td>\n      <td>0.061428</td>\n      <td>True</td>\n    </tr>\n  </tbody>\n</table>\n</div>"
     },
     "metadata": {},
     "execution_count": 5
    }
   ],
   "source": [
    "df_img = pd.read_csv(\"image_predictions.tsv\",\"\\t\")\n",
    "df_img.head(1)"
   ]
  },
  {
   "cell_type": "code",
   "execution_count": 12,
   "metadata": {},
   "outputs": [
    {
     "output_type": "stream",
     "name": "stdout",
     "text": [
      "<class 'pandas.core.frame.DataFrame'>\nRangeIndex: 2075 entries, 0 to 2074\nData columns (total 12 columns):\n #   Column    Non-Null Count  Dtype  \n---  ------    --------------  -----  \n 0   tweet_id  2075 non-null   int64  \n 1   jpg_url   2075 non-null   object \n 2   img_num   2075 non-null   int64  \n 3   p1        2075 non-null   object \n 4   p1_conf   2075 non-null   float64\n 5   p1_dog    2075 non-null   bool   \n 6   p2        2075 non-null   object \n 7   p2_conf   2075 non-null   float64\n 8   p2_dog    2075 non-null   bool   \n 9   p3        2075 non-null   object \n 10  p3_conf   2075 non-null   float64\n 11  p3_dog    2075 non-null   bool   \ndtypes: bool(3), float64(3), int64(2), object(4)\nmemory usage: 152.1+ KB\n"
     ]
    }
   ],
   "source": [
    "df_img.info()\n"
   ]
  },
  {
   "cell_type": "code",
   "execution_count": 6,
   "metadata": {},
   "outputs": [
    {
     "output_type": "execute_result",
     "data": {
      "text/plain": [
       "             tweet_id  retweet_count  favorite_count\n",
       "0  892420643555336193           8853           39467"
      ],
      "text/html": "<div>\n<style scoped>\n    .dataframe tbody tr th:only-of-type {\n        vertical-align: middle;\n    }\n\n    .dataframe tbody tr th {\n        vertical-align: top;\n    }\n\n    .dataframe thead th {\n        text-align: right;\n    }\n</style>\n<table border=\"1\" class=\"dataframe\">\n  <thead>\n    <tr style=\"text-align: right;\">\n      <th></th>\n      <th>tweet_id</th>\n      <th>retweet_count</th>\n      <th>favorite_count</th>\n    </tr>\n  </thead>\n  <tbody>\n    <tr>\n      <th>0</th>\n      <td>892420643555336193</td>\n      <td>8853</td>\n      <td>39467</td>\n    </tr>\n  </tbody>\n</table>\n</div>"
     },
     "metadata": {},
     "execution_count": 6
    }
   ],
   "source": [
    "df_count = pd.read_csv(\"tweet_json.csv\")\n",
    "df_count.head(1)"
   ]
  },
  {
   "cell_type": "code",
   "execution_count": 13,
   "metadata": {},
   "outputs": [
    {
     "output_type": "stream",
     "name": "stdout",
     "text": [
      "<class 'pandas.core.frame.DataFrame'>\nRangeIndex: 2354 entries, 0 to 2353\nData columns (total 3 columns):\n #   Column          Non-Null Count  Dtype\n---  ------          --------------  -----\n 0   tweet_id        2354 non-null   int64\n 1   retweet_count   2354 non-null   int64\n 2   favorite_count  2354 non-null   int64\ndtypes: int64(3)\nmemory usage: 55.3 KB\n"
     ]
    }
   ],
   "source": [
    "df_count.info()"
   ]
  },
  {
   "cell_type": "code",
   "execution_count": 7,
   "metadata": {},
   "outputs": [
    {
     "output_type": "stream",
     "name": "stdout",
     "text": [
      "<class 'pandas.core.frame.DataFrame'>\nInt64Index: 2073 entries, 0 to 2072\nData columns (total 30 columns):\n #   Column                      Non-Null Count  Dtype  \n---  ------                      --------------  -----  \n 0   tweet_id                    2073 non-null   int64  \n 1   in_reply_to_status_id       23 non-null     float64\n 2   in_reply_to_user_id         23 non-null     float64\n 3   timestamp                   2073 non-null   object \n 4   source                      2073 non-null   object \n 5   text                        2073 non-null   object \n 6   retweeted_status_id         79 non-null     float64\n 7   retweeted_status_user_id    79 non-null     float64\n 8   retweeted_status_timestamp  79 non-null     object \n 9   expanded_urls               2073 non-null   object \n 10  rating_numerator            2073 non-null   int64  \n 11  rating_denominator          2073 non-null   int64  \n 12  name                        2073 non-null   object \n 13  doggo                       2073 non-null   object \n 14  floofer                     2073 non-null   object \n 15  pupper                      2073 non-null   object \n 16  puppo                       2073 non-null   object \n 17  jpg_url                     2073 non-null   object \n 18  img_num                     2073 non-null   int64  \n 19  p1                          2073 non-null   object \n 20  p1_conf                     2073 non-null   float64\n 21  p1_dog                      2073 non-null   bool   \n 22  p2                          2073 non-null   object \n 23  p2_conf                     2073 non-null   float64\n 24  p2_dog                      2073 non-null   bool   \n 25  p3                          2073 non-null   object \n 26  p3_conf                     2073 non-null   float64\n 27  p3_dog                      2073 non-null   bool   \n 28  retweet_count               2073 non-null   int64  \n 29  favorite_count              2073 non-null   int64  \ndtypes: bool(3), float64(7), int64(6), object(14)\nmemory usage: 459.5+ KB\n"
     ]
    }
   ],
   "source": [
    "df1 = pd.merge(df_Archive, df_img, on = \"tweet_id\", how = \"inner\")\n",
    "df = pd.merge(df1, df_count, on = \"tweet_id\", how = \"inner\")\n",
    "df.info() "
   ]
  },
  {
   "cell_type": "code",
   "execution_count": 8,
   "metadata": {},
   "outputs": [],
   "source": [
    "df.drop(['in_reply_to_status_id', 'in_reply_to_user_id','source',\n",
    "         'retweeted_status_id','retweeted_status_user_id','retweeted_status_timestamp'], axis = 1,inplace=True)"
   ]
  },
  {
   "cell_type": "code",
   "execution_count": 9,
   "metadata": {},
   "outputs": [],
   "source": [
    "df['timestamp'] = pd.to_datetime(df['timestamp'])"
   ]
  },
  {
   "cell_type": "code",
   "execution_count": 10,
   "metadata": {},
   "outputs": [
    {
     "output_type": "stream",
     "name": "stdout",
     "text": [
      "<class 'pandas.core.frame.DataFrame'>\nInt64Index: 2073 entries, 0 to 2072\nData columns (total 21 columns):\n #   Column              Non-Null Count  Dtype              \n---  ------              --------------  -----              \n 0   tweet_id            2073 non-null   int64              \n 1   timestamp           2073 non-null   datetime64[ns, UTC]\n 2   text                2073 non-null   object             \n 3   expanded_urls       2073 non-null   object             \n 4   rating_numerator    2073 non-null   int64              \n 5   rating_denominator  2073 non-null   int64              \n 6   name                1496 non-null   object             \n 7   jpg_url             2073 non-null   object             \n 8   img_num             2073 non-null   int64              \n 9   p1                  2073 non-null   object             \n 10  p1_conf             2073 non-null   float64            \n 11  p1_dog              2073 non-null   bool               \n 12  p2                  2073 non-null   object             \n 13  p2_conf             2073 non-null   float64            \n 14  p2_dog              2073 non-null   bool               \n 15  p3                  2073 non-null   object             \n 16  p3_conf             2073 non-null   float64            \n 17  p3_dog              2073 non-null   bool               \n 18  retweet_count       2073 non-null   int64              \n 19  favorite_count      2073 non-null   int64              \n 20  classification      320 non-null    object             \ndtypes: bool(3), datetime64[ns, UTC](1), float64(3), int64(6), object(8)\nmemory usage: 313.8+ KB\n"
     ]
    }
   ],
   "source": [
    "df=df.replace({'None':np.NaN})\n",
    "df[\"classification\"] = df[['doggo', 'floofer',\"puppo\",\"pupper\"]].fillna(\"\").agg(''.join, axis=1)\n",
    "df=df.replace({'':np.NaN})\n",
    "df.drop(['doggo', 'floofer',\"puppo\",\"pupper\"], axis = 1,inplace=True)\n",
    "df.info()"
   ]
  },
  {
   "cell_type": "code",
   "execution_count": 14,
   "metadata": {},
   "outputs": [
    {
     "output_type": "execute_result",
     "data": {
      "text/plain": [
       "None       745\n",
       "a           55\n",
       "Charlie     12\n",
       "Cooper      11\n",
       "Lucy        11\n",
       "          ... \n",
       "Lupe         1\n",
       "Kuyu         1\n",
       "Bloo         1\n",
       "Teddy        1\n",
       "Yoda         1\n",
       "Name: name, Length: 957, dtype: int64"
      ]
     },
     "metadata": {},
     "execution_count": 14
    }
   ],
   "source": [
    "df_Archive['name'].value_counts()"
   ]
  },
  {
   "source": [
    "# Notes on `Archive table (df)`\n",
    "- last 4 coloumns type\n",
    "- Missing data at expanded_urls\n",
    "- Explore coloumn 1,2,6,7,8"
   ],
   "cell_type": "markdown",
   "metadata": {}
  },
  {
   "cell_type": "code",
   "execution_count": null,
   "metadata": {},
   "outputs": [],
   "source": []
  },
  {
   "source": [],
   "cell_type": "markdown",
   "metadata": {}
  }
 ]
}